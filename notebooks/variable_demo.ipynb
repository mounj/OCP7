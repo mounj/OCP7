{
 "cells": [
  {
   "cell_type": "markdown",
   "metadata": {},
   "source": [
    "# Lancement de l'API"
   ]
  },
  {
   "cell_type": "code",
   "execution_count": 1,
   "metadata": {},
   "outputs": [],
   "source": [
    "# lancement depuis https://ocp7gitapi.herokuapp.com/docs#/default/predict_defautclient_predict_post\n",
    "# Valeur = 0\n",
    "data_0 = {\"EXT_SOURCE_3\": 0.6042626548803929,\n",
    " \"OBS_60_CNT_SOCIAL_CIRCLE\": 0.04,\n",
    " \"EXT_SOURCE_2\": 0.7277592806510249,\n",
    " \"OBS_30_CNT_SOCIAL_CIRCLE\": 0.04,\n",
    " \"AMT_REQ_CREDIT_BUREAU_YEAR\": 0.0,\n",
    " \"CNT_CHILDREN\": 0.0,\n",
    " \"CNT_FAM_MEMBERS\": 0.1111111111111111,\n",
    " \"EXT_SOURCE_1\": 0.3162894358501382,\n",
    " \"PAYMENT_RATE\": 0.0521029941555441,\n",
    " \"FLAG_PHONE\": 1.0}\n",
    "\n",
    "# valeur = 1\n",
    "data_1 = {\n",
    "    \"EXT_SOURCE_3\": 0.156898,\n",
    "    \"OBS_60_CNT_SOCIAL_CIRCLE\": 0.08,\n",
    "    \"EXT_SOURCE_2\": 0.307507,\n",
    "    \"OBS_30_CNT_SOCIAL_CIRCLE\": 0.08,\n",
    "    \"AMT_REQ_CREDIT_BUREAU_YEAR\": 0.04,\n",
    "    \"CNT_CHILDREN\": 0,\n",
    "    \"CNT_FAM_MEMBERS\": 0,\n",
    "    \"EXT_SOURCE_1\": 0.06535,\n",
    "    \"PAYMENT_RATE\": 0.376626,\n",
    "    \"FLAG_PHONE\": 1\n",
    "}"
   ]
  },
  {
   "cell_type": "code",
   "execution_count": 3,
   "metadata": {},
   "outputs": [
    {
     "ename": "IndentationError",
     "evalue": "unindent does not match any outer indentation level (<tokenize>, line 14)",
     "output_type": "error",
     "traceback": [
      "\u001b[0;36m  File \u001b[0;32m\"<tokenize>\"\u001b[0;36m, line \u001b[0;32m14\u001b[0m\n\u001b[0;31m    }'\u001b[0m\n\u001b[0m    ^\u001b[0m\n\u001b[0;31mIndentationError\u001b[0m\u001b[0;31m:\u001b[0m unindent does not match any outer indentation level\n"
     ]
    }
   ],
   "source": [
    "# Lancement depuis la console\n",
    "#### DATA 0 ####\n",
    "curl -X 'POST' \\\n",
    "  'https://ocp7gitapi.herokuapp.com/predict' \\\n",
    "  -H 'accept: application/json' \\\n",
    "  -H 'Content-Type: application/json' \\\n",
    "  -d '{\n",
    "        \"EXT_SOURCE_3\": 0.6042626548803929,\n",
    "        \"OBS_60_CNT_SOCIAL_CIRCLE\": 0.04,\n",
    "        \"EXT_SOURCE_2\": 0.7277592806510249,\n",
    "        \"OBS_30_CNT_SOCIAL_CIRCLE\": 0.04,\n",
    "        \"AMT_REQ_CREDIT_BUREAU_YEAR\": 0.0,\n",
    "        \"CNT_CHILDREN\": 0.0,\n",
    "        \"CNT_FAM_MEMBERS\": 0.1111111111111111,\n",
    "        \"EXT_SOURCE_1\": 0.3162894358501382,\n",
    "        \"PAYMENT_RATE\": 0.0521029941555441,\n",
    "        \"FLAG_PHONE\": 1.0\n",
    "    }'"
   ]
  },
  {
   "cell_type": "code",
   "execution_count": null,
   "metadata": {},
   "outputs": [],
   "source": [
    "#### DATA 1 ####\n",
    "curl -X 'POST' \\\n",
    "  'https://ocp7gitapi.herokuapp.com/predict' \\\n",
    "  -H 'accept: application/json' \\\n",
    "  -H 'Content-Type: application/json' \\\n",
    "  -d '{\n",
    "    \"EXT_SOURCE_3\": 0.156898,\n",
    "    \"OBS_60_CNT_SOCIAL_CIRCLE\": 0.08,\n",
    "    \"EXT_SOURCE_2\": 0.307507,\n",
    "    \"OBS_30_CNT_SOCIAL_CIRCLE\": 0.08,\n",
    "    \"AMT_REQ_CREDIT_BUREAU_YEAR\": 0.04,\n",
    "    \"CNT_CHILDREN\": 0,\n",
    "    \"CNT_FAM_MEMBERS\": 0,\n",
    "    \"EXT_SOURCE_1\": 0.06535,\n",
    "    \"PAYMENT_RATE\": 0.376626,\n",
    "    \"FLAG_PHONE\": 1\n",
    "    }'"
   ]
  },
  {
   "cell_type": "markdown",
   "metadata": {},
   "source": [
    "# Lancement du site web"
   ]
  },
  {
   "cell_type": "markdown",
   "metadata": {},
   "source": []
  }
 ],
 "metadata": {
  "kernelspec": {
   "display_name": "Python 3.8.12 64-bit ('3.8.12')",
   "language": "python",
   "name": "python3"
  },
  "language_info": {
   "codemirror_mode": {
    "name": "ipython",
    "version": 3
   },
   "file_extension": ".py",
   "mimetype": "text/x-python",
   "name": "python",
   "nbconvert_exporter": "python",
   "pygments_lexer": "ipython3",
   "version": "3.8.12"
  },
  "orig_nbformat": 4,
  "vscode": {
   "interpreter": {
    "hash": "625567bbe2912a008a77e1938e4f92248fcd45ba02005459c35f6f75fddd5d9b"
   }
  }
 },
 "nbformat": 4,
 "nbformat_minor": 2
}
